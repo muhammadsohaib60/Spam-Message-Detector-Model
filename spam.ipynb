{
 "cells": [
  {
   "cell_type": "code",
   "execution_count": 31,
   "id": "08d2dd2f",
   "metadata": {},
   "outputs": [],
   "source": [
    "                             #Spam Message Detector Model"
   ]
  },
  {
   "cell_type": "markdown",
   "id": "87611f43",
   "metadata": {},
   "source": [
    "\n",
    "                                   MOTIVATION\n",
    "Email has ended up being one of the most important means of communication. As of 2014, there are an estimated 4.1 billion email accounts worldwide, and nearly 196 billion emails are sent worldwide each day. Spam is one of the main threats to email clients. Connecting to spam emails can lead clients to websites with malware or phishing schemes that can enter and compromise the recipient's computer framework. Additionally, these destinations may collect sensitive data. Additionally, spam costs businesses around $2,000 per year due to reduced productivity. Effective innovation in spam filtering could subsequently represent a significant commitment to support the Internet and our society. Currently, there are various approaches to spam detection. These approaches include boycotting, bulk email detection, message header filtering, greylisting, and content-based filtering, Blacklisting could be a method that recognizes an IP address. In addition, Artificial Intelligence can recognize when spam is linked to the danger of malware. Not all spam emails are traps, so malware is likely to end up in your inbox eventually. AI spam channels check every incoming message and name any scary substance."
   ]
  },
  {
   "cell_type": "code",
   "execution_count": 12,
   "id": "993b9eac",
   "metadata": {},
   "outputs": [],
   "source": [
    "import numpy as np # linear algebra\n",
    "import pandas as pd # data processing, CSV file I/O (e.g. pd.read_csv)\n",
    "import matplotlib.pyplot as plt\n",
    "import seaborn as sns"
   ]
  },
  {
   "cell_type": "markdown",
   "id": "10e82620",
   "metadata": {},
   "source": [
    "                                    DATASET\n",
    "Spam detection can be a problem focused on machine learning. This means that you need to demonstrate your machine learning using a set of spam message cases and have them discover the significant propositions that separated these two distinct categories. Most mail providers have huge data sets of labeled emails available. Every time you mark an email as spam in your Gmail account, you're giving Google ready information for its machine learning calculations.\n",
    " \n",
    "There are several open source datasets. However, these datasets are intended for instructional and testing purposes and are not very useful for building machine learning models at the production level. For this purpose, the collected information is obtained from CSV that can be used to prepare machine learning models. The information was initially available in an English and was obtained within a comma-separated value (CSV) format. In At the end of this preparation, we collected a total e-mails, recorded in two columns. The primary column, named \"text\", which has two conceivable values such as spam , was to be used to classify emails. \n",
    " \n",
    "         \n",
    "\n",
    "\n",
    "\n",
    "\n",
    "\n",
    "Removing rows with NULL values in text column\n",
    " \n",
    "                     \n",
    "\n",
    "Import Data\n",
    "The primary layout is to mock a dataset that is downloaded from “Kaggle” and then converted to a CSV layout in English A dataset containing 2044 emails has now been classified as spam. The information was obtained while composing within the English Language. \n",
    "Data Preprocessing\n",
    "In machine learning (ML), preprocessing express refers to the organization and inspection of raw information that has recently been used to prepare and test characteristic learning models. In short, preprocessing could be an ML information mining approach that turns raw information into a usable and inventive structure. An exceptional start step in ML development is preprocessing, in which real-world information, usually incomplete, loose, and incorrect due to defects and insufficient, is transformed into accurate, precise, and usable input factors and patterns.\n",
    "\n"
   ]
  },
  {
   "cell_type": "code",
   "execution_count": 13,
   "id": "f6183b3c",
   "metadata": {},
   "outputs": [
    {
     "data": {
      "text/html": [
       "<div>\n",
       "<style scoped>\n",
       "    .dataframe tbody tr th:only-of-type {\n",
       "        vertical-align: middle;\n",
       "    }\n",
       "\n",
       "    .dataframe tbody tr th {\n",
       "        vertical-align: top;\n",
       "    }\n",
       "\n",
       "    .dataframe thead th {\n",
       "        text-align: right;\n",
       "    }\n",
       "</style>\n",
       "<table border=\"1\" class=\"dataframe\">\n",
       "  <thead>\n",
       "    <tr style=\"text-align: right;\">\n",
       "      <th></th>\n",
       "      <th>text</th>\n",
       "      <th>spam</th>\n",
       "    </tr>\n",
       "  </thead>\n",
       "  <tbody>\n",
       "    <tr>\n",
       "      <th>0</th>\n",
       "      <td>Subject: naturally irresistible your corporate...</td>\n",
       "      <td>1.0</td>\n",
       "    </tr>\n",
       "    <tr>\n",
       "      <th>1</th>\n",
       "      <td>Subject: the stock trading gunslinger  fanny i...</td>\n",
       "      <td>1.0</td>\n",
       "    </tr>\n",
       "    <tr>\n",
       "      <th>2</th>\n",
       "      <td>Subject: unbelievable new homes made easy  im ...</td>\n",
       "      <td>1.0</td>\n",
       "    </tr>\n",
       "    <tr>\n",
       "      <th>3</th>\n",
       "      <td>Subject: 4 color printing special  request add...</td>\n",
       "      <td>1.0</td>\n",
       "    </tr>\n",
       "    <tr>\n",
       "      <th>4</th>\n",
       "      <td>Subject: do not have money , get software cds ...</td>\n",
       "      <td>1.0</td>\n",
       "    </tr>\n",
       "    <tr>\n",
       "      <th>...</th>\n",
       "      <td>...</td>\n",
       "      <td>...</td>\n",
       "    </tr>\n",
       "    <tr>\n",
       "      <th>5721</th>\n",
       "      <td>NaN</td>\n",
       "      <td>NaN</td>\n",
       "    </tr>\n",
       "    <tr>\n",
       "      <th>5722</th>\n",
       "      <td>NaN</td>\n",
       "      <td>NaN</td>\n",
       "    </tr>\n",
       "    <tr>\n",
       "      <th>5723</th>\n",
       "      <td>NaN</td>\n",
       "      <td>NaN</td>\n",
       "    </tr>\n",
       "    <tr>\n",
       "      <th>5724</th>\n",
       "      <td>NaN</td>\n",
       "      <td>NaN</td>\n",
       "    </tr>\n",
       "    <tr>\n",
       "      <th>5725</th>\n",
       "      <td>NaN</td>\n",
       "      <td>NaN</td>\n",
       "    </tr>\n",
       "  </tbody>\n",
       "</table>\n",
       "<p>5726 rows × 2 columns</p>\n",
       "</div>"
      ],
      "text/plain": [
       "                                                   text  spam\n",
       "0     Subject: naturally irresistible your corporate...   1.0\n",
       "1     Subject: the stock trading gunslinger  fanny i...   1.0\n",
       "2     Subject: unbelievable new homes made easy  im ...   1.0\n",
       "3     Subject: 4 color printing special  request add...   1.0\n",
       "4     Subject: do not have money , get software cds ...   1.0\n",
       "...                                                 ...   ...\n",
       "5721                                                NaN   NaN\n",
       "5722                                                NaN   NaN\n",
       "5723                                                NaN   NaN\n",
       "5724                                                NaN   NaN\n",
       "5725                                                NaN   NaN\n",
       "\n",
       "[5726 rows x 2 columns]"
      ]
     },
     "execution_count": 13,
     "metadata": {},
     "output_type": "execute_result"
    }
   ],
   "source": [
    "data = pd.read_csv('emails_V2.csv')\n",
    "data"
   ]
  },
  {
   "cell_type": "code",
   "execution_count": 14,
   "id": "462d6104",
   "metadata": {},
   "outputs": [
    {
     "data": {
      "text/plain": [
       "text    3683\n",
       "spam    3683\n",
       "dtype: int64"
      ]
     },
     "execution_count": 14,
     "metadata": {},
     "output_type": "execute_result"
    }
   ],
   "source": [
    "data.isnull().sum()"
   ]
  },
  {
   "cell_type": "code",
   "execution_count": 15,
   "id": "d4acf96a",
   "metadata": {},
   "outputs": [],
   "source": [
    "                         #Removing rows with NULL values in text column"
   ]
  },
  {
   "cell_type": "code",
   "execution_count": 16,
   "id": "9e6893b6",
   "metadata": {},
   "outputs": [
    {
     "data": {
      "text/plain": [
       "text    0\n",
       "spam    0\n",
       "dtype: int64"
      ]
     },
     "execution_count": 16,
     "metadata": {},
     "output_type": "execute_result"
    }
   ],
   "source": [
    "data = data.dropna(subset = ['text'])\n",
    "data.isnull().sum()"
   ]
  },
  {
   "cell_type": "code",
   "execution_count": 17,
   "id": "32ed2be9",
   "metadata": {},
   "outputs": [],
   "source": [
    "      # Hence data's NULL values are now cleaned, moreover I thought there would be a scenario where some of the rows would have only the spam column as NULL, and I would consider them as a test data set."
   ]
  },
  {
   "cell_type": "code",
   "execution_count": 18,
   "id": "6e8fed93",
   "metadata": {},
   "outputs": [
    {
     "data": {
      "text/html": [
       "<div>\n",
       "<style scoped>\n",
       "    .dataframe tbody tr th:only-of-type {\n",
       "        vertical-align: middle;\n",
       "    }\n",
       "\n",
       "    .dataframe tbody tr th {\n",
       "        vertical-align: top;\n",
       "    }\n",
       "\n",
       "    .dataframe thead th {\n",
       "        text-align: right;\n",
       "    }\n",
       "</style>\n",
       "<table border=\"1\" class=\"dataframe\">\n",
       "  <thead>\n",
       "    <tr style=\"text-align: right;\">\n",
       "      <th></th>\n",
       "      <th>text</th>\n",
       "      <th>spam</th>\n",
       "    </tr>\n",
       "  </thead>\n",
       "  <tbody>\n",
       "    <tr>\n",
       "      <th>0</th>\n",
       "      <td>Subject: naturally irresistible your corporate...</td>\n",
       "      <td>1.0</td>\n",
       "    </tr>\n",
       "    <tr>\n",
       "      <th>1</th>\n",
       "      <td>Subject: the stock trading gunslinger  fanny i...</td>\n",
       "      <td>1.0</td>\n",
       "    </tr>\n",
       "    <tr>\n",
       "      <th>2</th>\n",
       "      <td>Subject: unbelievable new homes made easy  im ...</td>\n",
       "      <td>1.0</td>\n",
       "    </tr>\n",
       "    <tr>\n",
       "      <th>3</th>\n",
       "      <td>Subject: 4 color printing special  request add...</td>\n",
       "      <td>1.0</td>\n",
       "    </tr>\n",
       "    <tr>\n",
       "      <th>4</th>\n",
       "      <td>Subject: do not have money , get software cds ...</td>\n",
       "      <td>1.0</td>\n",
       "    </tr>\n",
       "    <tr>\n",
       "      <th>...</th>\n",
       "      <td>...</td>\n",
       "      <td>...</td>\n",
       "    </tr>\n",
       "    <tr>\n",
       "      <th>2038</th>\n",
       "      <td>Subject: the installation of the equipment you...</td>\n",
       "      <td>0.0</td>\n",
       "    </tr>\n",
       "    <tr>\n",
       "      <th>2039</th>\n",
       "      <td>Subject: all about current and near future gas...</td>\n",
       "      <td>0.0</td>\n",
       "    </tr>\n",
       "    <tr>\n",
       "      <th>2040</th>\n",
       "      <td>Subject: maureen ' s expenses  it appears that...</td>\n",
       "      <td>0.0</td>\n",
       "    </tr>\n",
       "    <tr>\n",
       "      <th>2041</th>\n",
       "      <td>Subject: interview - numerical methods &amp; finan...</td>\n",
       "      <td>0.0</td>\n",
       "    </tr>\n",
       "    <tr>\n",
       "      <th>2042</th>\n",
       "      <td>Subject: sevil yaman  hi norma ,  sevil ' s pr...</td>\n",
       "      <td>0.0</td>\n",
       "    </tr>\n",
       "  </tbody>\n",
       "</table>\n",
       "<p>2043 rows × 2 columns</p>\n",
       "</div>"
      ],
      "text/plain": [
       "                                                   text  spam\n",
       "0     Subject: naturally irresistible your corporate...   1.0\n",
       "1     Subject: the stock trading gunslinger  fanny i...   1.0\n",
       "2     Subject: unbelievable new homes made easy  im ...   1.0\n",
       "3     Subject: 4 color printing special  request add...   1.0\n",
       "4     Subject: do not have money , get software cds ...   1.0\n",
       "...                                                 ...   ...\n",
       "2038  Subject: the installation of the equipment you...   0.0\n",
       "2039  Subject: all about current and near future gas...   0.0\n",
       "2040  Subject: maureen ' s expenses  it appears that...   0.0\n",
       "2041  Subject: interview - numerical methods & finan...   0.0\n",
       "2042  Subject: sevil yaman  hi norma ,  sevil ' s pr...   0.0\n",
       "\n",
       "[2043 rows x 2 columns]"
      ]
     },
     "execution_count": 18,
     "metadata": {},
     "output_type": "execute_result"
    }
   ],
   "source": [
    "data"
   ]
  },
  {
   "cell_type": "code",
   "execution_count": 19,
   "id": "cc8175e9",
   "metadata": {},
   "outputs": [
    {
     "data": {
      "text/plain": [
       "text    Subject: localized software , all languages av...\n",
       "spam                                                  1.0\n",
       "Name: 1024, dtype: object"
      ]
     },
     "execution_count": 19,
     "metadata": {},
     "output_type": "execute_result"
    }
   ],
   "source": [
    "data.iloc[1024]"
   ]
  },
  {
   "cell_type": "code",
   "execution_count": 20,
   "id": "7e0733b9",
   "metadata": {},
   "outputs": [
    {
     "data": {
      "text/plain": [
       "\"Subject: naturally irresistible your corporate identity  lt is really hard to recollect a company : the  market is full of suqgestions and the information isoverwhelminq ; but a good  catchy logo , stylish statlonery and outstanding website  will make the task much easier .  we do not promise that havinq ordered a iogo your  company will automaticaily become a world ieader : it isguite ciear that  without good products , effective business organization and practicable aim it  will be hotat nowadays market ; but we do promise that your marketing efforts  will become much more effective . here is the list of clear  benefits : creativeness : hand - made , original logos , specially done  to reflect your distinctive company image . convenience : logo and stationery  are provided in all formats ; easy - to - use content management system letsyou  change your website content and even its structure . promptness : you  will see logo drafts within three business days . affordability : your  marketing break - through shouldn ' t make gaps in your budget . 100 % satisfaction  guaranteed : we provide unlimited amount of changes with no extra fees for you to  be surethat you will love the result of this collaboration . have a look at our  portfolio _ _ _ _ _ _ _ _ _ _ _ _ _ _ _ _ _ _ _ _ _ _ _ _ _ _ _ _ _ _ _ _ _ _ _ _ _ _ _ _ _ _ _ _ _ _ _ _ _ _ _ _ not interested . . . _ _ _ _ _ _ _ _ _ _ _ _ _ _ _ _ _ _ _ _ _ _ _ _ _ _ _ _ _ _ _ _ _ _ _ _ _ _ _ _ _ _ _ _ _ _ _ _ _ _ _ _\""
      ]
     },
     "execution_count": 20,
     "metadata": {},
     "output_type": "execute_result"
    }
   ],
   "source": [
    "data['text'][0]"
   ]
  },
  {
   "cell_type": "code",
   "execution_count": 21,
   "id": "80ebfe18",
   "metadata": {},
   "outputs": [
    {
     "name": "stderr",
     "output_type": "stream",
     "text": [
      "C:\\Users\\h\\AppData\\Local\\Temp/ipykernel_7820/4265405623.py:1: SettingWithCopyWarning: \n",
      "A value is trying to be set on a copy of a slice from a DataFrame.\n",
      "Try using .loc[row_indexer,col_indexer] = value instead\n",
      "\n",
      "See the caveats in the documentation: https://pandas.pydata.org/pandas-docs/stable/user_guide/indexing.html#returning-a-view-versus-a-copy\n",
      "  data['text'] = data['text'].str.lstrip('Subject:')\n"
     ]
    }
   ],
   "source": [
    "data['text'] = data['text'].str.lstrip('Subject:')"
   ]
  },
  {
   "cell_type": "code",
   "execution_count": 22,
   "id": "a4c4145a",
   "metadata": {},
   "outputs": [
    {
     "data": {
      "text/html": [
       "<div>\n",
       "<style scoped>\n",
       "    .dataframe tbody tr th:only-of-type {\n",
       "        vertical-align: middle;\n",
       "    }\n",
       "\n",
       "    .dataframe tbody tr th {\n",
       "        vertical-align: top;\n",
       "    }\n",
       "\n",
       "    .dataframe thead th {\n",
       "        text-align: right;\n",
       "    }\n",
       "</style>\n",
       "<table border=\"1\" class=\"dataframe\">\n",
       "  <thead>\n",
       "    <tr style=\"text-align: right;\">\n",
       "      <th></th>\n",
       "      <th>text</th>\n",
       "      <th>spam</th>\n",
       "    </tr>\n",
       "  </thead>\n",
       "  <tbody>\n",
       "    <tr>\n",
       "      <th>0</th>\n",
       "      <td>naturally irresistible your corporate identit...</td>\n",
       "      <td>1.0</td>\n",
       "    </tr>\n",
       "    <tr>\n",
       "      <th>1</th>\n",
       "      <td>the stock trading gunslinger  fanny is merril...</td>\n",
       "      <td>1.0</td>\n",
       "    </tr>\n",
       "    <tr>\n",
       "      <th>2</th>\n",
       "      <td>unbelievable new homes made easy  im wanting ...</td>\n",
       "      <td>1.0</td>\n",
       "    </tr>\n",
       "    <tr>\n",
       "      <th>3</th>\n",
       "      <td>4 color printing special  request additional ...</td>\n",
       "      <td>1.0</td>\n",
       "    </tr>\n",
       "    <tr>\n",
       "      <th>4</th>\n",
       "      <td>do not have money , get software cds from her...</td>\n",
       "      <td>1.0</td>\n",
       "    </tr>\n",
       "    <tr>\n",
       "      <th>...</th>\n",
       "      <td>...</td>\n",
       "      <td>...</td>\n",
       "    </tr>\n",
       "    <tr>\n",
       "      <th>2038</th>\n",
       "      <td>the installation of the equipment you ordered...</td>\n",
       "      <td>0.0</td>\n",
       "    </tr>\n",
       "    <tr>\n",
       "      <th>2039</th>\n",
       "      <td>all about current and near future gas / power...</td>\n",
       "      <td>0.0</td>\n",
       "    </tr>\n",
       "    <tr>\n",
       "      <th>2040</th>\n",
       "      <td>maureen ' s expenses  it appears that adminis...</td>\n",
       "      <td>0.0</td>\n",
       "    </tr>\n",
       "    <tr>\n",
       "      <th>2041</th>\n",
       "      <td>interview - numerical methods &amp; finance  dear...</td>\n",
       "      <td>0.0</td>\n",
       "    </tr>\n",
       "    <tr>\n",
       "      <th>2042</th>\n",
       "      <td>sevil yaman  hi norma ,  sevil ' s primary pr...</td>\n",
       "      <td>0.0</td>\n",
       "    </tr>\n",
       "  </tbody>\n",
       "</table>\n",
       "<p>2043 rows × 2 columns</p>\n",
       "</div>"
      ],
      "text/plain": [
       "                                                   text  spam\n",
       "0      naturally irresistible your corporate identit...   1.0\n",
       "1      the stock trading gunslinger  fanny is merril...   1.0\n",
       "2      unbelievable new homes made easy  im wanting ...   1.0\n",
       "3      4 color printing special  request additional ...   1.0\n",
       "4      do not have money , get software cds from her...   1.0\n",
       "...                                                 ...   ...\n",
       "2038   the installation of the equipment you ordered...   0.0\n",
       "2039   all about current and near future gas / power...   0.0\n",
       "2040   maureen ' s expenses  it appears that adminis...   0.0\n",
       "2041   interview - numerical methods & finance  dear...   0.0\n",
       "2042   sevil yaman  hi norma ,  sevil ' s primary pr...   0.0\n",
       "\n",
       "[2043 rows x 2 columns]"
      ]
     },
     "execution_count": 22,
     "metadata": {},
     "output_type": "execute_result"
    }
   ],
   "source": [
    "data"
   ]
  },
  {
   "cell_type": "code",
   "execution_count": 23,
   "id": "aaa5b469",
   "metadata": {},
   "outputs": [
    {
     "data": {
      "text/plain": [
       "dtype('float64')"
      ]
     },
     "execution_count": 23,
     "metadata": {},
     "output_type": "execute_result"
    }
   ],
   "source": [
    "data['spam'].dtype"
   ]
  },
  {
   "cell_type": "code",
   "execution_count": 24,
   "id": "ef23e8c8",
   "metadata": {},
   "outputs": [],
   "source": [
    "              #Converting spam column to int datatype"
   ]
  },
  {
   "cell_type": "code",
   "execution_count": 25,
   "id": "6c5e7fe7",
   "metadata": {},
   "outputs": [
    {
     "name": "stderr",
     "output_type": "stream",
     "text": [
      "C:\\Users\\h\\AppData\\Local\\Temp/ipykernel_7820/687636052.py:1: SettingWithCopyWarning: \n",
      "A value is trying to be set on a copy of a slice from a DataFrame.\n",
      "Try using .loc[row_indexer,col_indexer] = value instead\n",
      "\n",
      "See the caveats in the documentation: https://pandas.pydata.org/pandas-docs/stable/user_guide/indexing.html#returning-a-view-versus-a-copy\n",
      "  data['spam'] = data['spam'].astype(int)\n"
     ]
    },
    {
     "data": {
      "text/plain": [
       "dtype('int32')"
      ]
     },
     "execution_count": 25,
     "metadata": {},
     "output_type": "execute_result"
    }
   ],
   "source": [
    "data['spam'] = data['spam'].astype(int)\n",
    "data['spam'].dtype"
   ]
  },
  {
   "cell_type": "code",
   "execution_count": 26,
   "id": "0ab110c2",
   "metadata": {},
   "outputs": [
    {
     "data": {
      "text/html": [
       "<div>\n",
       "<style scoped>\n",
       "    .dataframe tbody tr th:only-of-type {\n",
       "        vertical-align: middle;\n",
       "    }\n",
       "\n",
       "    .dataframe tbody tr th {\n",
       "        vertical-align: top;\n",
       "    }\n",
       "\n",
       "    .dataframe thead th {\n",
       "        text-align: right;\n",
       "    }\n",
       "</style>\n",
       "<table border=\"1\" class=\"dataframe\">\n",
       "  <thead>\n",
       "    <tr style=\"text-align: right;\">\n",
       "      <th></th>\n",
       "      <th>text</th>\n",
       "      <th>spam</th>\n",
       "    </tr>\n",
       "  </thead>\n",
       "  <tbody>\n",
       "    <tr>\n",
       "      <th>0</th>\n",
       "      <td>naturally irresistible your corporate identit...</td>\n",
       "      <td>1</td>\n",
       "    </tr>\n",
       "    <tr>\n",
       "      <th>1</th>\n",
       "      <td>the stock trading gunslinger  fanny is merril...</td>\n",
       "      <td>1</td>\n",
       "    </tr>\n",
       "    <tr>\n",
       "      <th>2</th>\n",
       "      <td>unbelievable new homes made easy  im wanting ...</td>\n",
       "      <td>1</td>\n",
       "    </tr>\n",
       "    <tr>\n",
       "      <th>3</th>\n",
       "      <td>4 color printing special  request additional ...</td>\n",
       "      <td>1</td>\n",
       "    </tr>\n",
       "    <tr>\n",
       "      <th>4</th>\n",
       "      <td>do not have money , get software cds from her...</td>\n",
       "      <td>1</td>\n",
       "    </tr>\n",
       "    <tr>\n",
       "      <th>...</th>\n",
       "      <td>...</td>\n",
       "      <td>...</td>\n",
       "    </tr>\n",
       "    <tr>\n",
       "      <th>2038</th>\n",
       "      <td>the installation of the equipment you ordered...</td>\n",
       "      <td>0</td>\n",
       "    </tr>\n",
       "    <tr>\n",
       "      <th>2039</th>\n",
       "      <td>all about current and near future gas / power...</td>\n",
       "      <td>0</td>\n",
       "    </tr>\n",
       "    <tr>\n",
       "      <th>2040</th>\n",
       "      <td>maureen ' s expenses  it appears that adminis...</td>\n",
       "      <td>0</td>\n",
       "    </tr>\n",
       "    <tr>\n",
       "      <th>2041</th>\n",
       "      <td>interview - numerical methods &amp; finance  dear...</td>\n",
       "      <td>0</td>\n",
       "    </tr>\n",
       "    <tr>\n",
       "      <th>2042</th>\n",
       "      <td>sevil yaman  hi norma ,  sevil ' s primary pr...</td>\n",
       "      <td>0</td>\n",
       "    </tr>\n",
       "  </tbody>\n",
       "</table>\n",
       "<p>2043 rows × 2 columns</p>\n",
       "</div>"
      ],
      "text/plain": [
       "                                                   text  spam\n",
       "0      naturally irresistible your corporate identit...     1\n",
       "1      the stock trading gunslinger  fanny is merril...     1\n",
       "2      unbelievable new homes made easy  im wanting ...     1\n",
       "3      4 color printing special  request additional ...     1\n",
       "4      do not have money , get software cds from her...     1\n",
       "...                                                 ...   ...\n",
       "2038   the installation of the equipment you ordered...     0\n",
       "2039   all about current and near future gas / power...     0\n",
       "2040   maureen ' s expenses  it appears that adminis...     0\n",
       "2041   interview - numerical methods & finance  dear...     0\n",
       "2042   sevil yaman  hi norma ,  sevil ' s primary pr...     0\n",
       "\n",
       "[2043 rows x 2 columns]"
      ]
     },
     "execution_count": 26,
     "metadata": {},
     "output_type": "execute_result"
    }
   ],
   "source": [
    "data"
   ]
  },
  {
   "cell_type": "code",
   "execution_count": 27,
   "id": "75f3a4ad",
   "metadata": {},
   "outputs": [],
   "source": [
    "          #Let's visualise the data"
   ]
  },
  {
   "cell_type": "code",
   "execution_count": 28,
   "id": "777ece5f",
   "metadata": {},
   "outputs": [
    {
     "data": {
      "text/plain": [
       "<AxesSubplot:xlabel='spam', ylabel='count'>"
      ]
     },
     "execution_count": 28,
     "metadata": {},
     "output_type": "execute_result"
    },
    {
     "data": {
      "image/png": "[encoded data removed]",
      "text/plain": [
       "<Figure size 432x288 with 1 Axes>"
      ]
     },
     "metadata": {
      "needs_background": "light"
     },
     "output_type": "display_data"
    }
   ],
   "source": [
    "sns.countplot(x = 'spam', data = data)"
   ]
  },
  {
   "cell_type": "code",
   "execution_count": 29,
   "id": "b8ff042b",
   "metadata": {},
   "outputs": [],
   "source": [
    "       #Converting textual data to numeric data"
   ]
  },
  {
   "cell_type": "code",
   "execution_count": 30,
   "id": "2852ab0e",
   "metadata": {},
   "outputs": [],
   "source": [
    "from sklearn.feature_extraction.text import TfidfVectorizer\n",
    "import re"
   ]
  },
  {
   "cell_type": "code",
   "execution_count": 31,
   "id": "e5bab69f",
   "metadata": {},
   "outputs": [
    {
     "name": "stderr",
     "output_type": "stream",
     "text": [
      "C:\\Users\\h\\AppData\\Local\\Temp/ipykernel_7820/3881389072.py:2: SettingWithCopyWarning: \n",
      "A value is trying to be set on a copy of a slice from a DataFrame\n",
      "\n",
      "See the caveats in the documentation: https://pandas.pydata.org/pandas-docs/stable/user_guide/indexing.html#returning-a-view-versus-a-copy\n",
      "  data['text'][i] = re.sub(r\"[^a-zA-Z0-9]\", ' ', data['text'][i])\n"
     ]
    }
   ],
   "source": [
    "for i in range(len(data['text'])):\n",
    "    data['text'][i] = re.sub(r\"[^a-zA-Z0-9]\", ' ', data['text'][i])"
   ]
  },
  {
   "cell_type": "code",
   "execution_count": 32,
   "id": "d7cd48a1",
   "metadata": {},
   "outputs": [
    {
     "name": "stderr",
     "output_type": "stream",
     "text": [
      "C:\\Users\\h\\AppData\\Local\\Temp/ipykernel_7820/369403302.py:1: SettingWithCopyWarning: \n",
      "A value is trying to be set on a copy of a slice from a DataFrame.\n",
      "Try using .loc[row_indexer,col_indexer] = value instead\n",
      "\n",
      "See the caveats in the documentation: https://pandas.pydata.org/pandas-docs/stable/user_guide/indexing.html#returning-a-view-versus-a-copy\n",
      "  data['text'] = data['text'].str.lower()\n"
     ]
    }
   ],
   "source": [
    "data['text'] = data['text'].str.lower()"
   ]
  },
  {
   "cell_type": "code",
   "execution_count": 33,
   "id": "44ff106f",
   "metadata": {},
   "outputs": [
    {
     "data": {
      "text/html": [
       "<div>\n",
       "<style scoped>\n",
       "    .dataframe tbody tr th:only-of-type {\n",
       "        vertical-align: middle;\n",
       "    }\n",
       "\n",
       "    .dataframe tbody tr th {\n",
       "        vertical-align: top;\n",
       "    }\n",
       "\n",
       "    .dataframe thead th {\n",
       "        text-align: right;\n",
       "    }\n",
       "</style>\n",
       "<table border=\"1\" class=\"dataframe\">\n",
       "  <thead>\n",
       "    <tr style=\"text-align: right;\">\n",
       "      <th></th>\n",
       "      <th>text</th>\n",
       "      <th>spam</th>\n",
       "    </tr>\n",
       "  </thead>\n",
       "  <tbody>\n",
       "    <tr>\n",
       "      <th>0</th>\n",
       "      <td>naturally irresistible your corporate identit...</td>\n",
       "      <td>1</td>\n",
       "    </tr>\n",
       "    <tr>\n",
       "      <th>1</th>\n",
       "      <td>the stock trading gunslinger  fanny is merril...</td>\n",
       "      <td>1</td>\n",
       "    </tr>\n",
       "    <tr>\n",
       "      <th>2</th>\n",
       "      <td>unbelievable new homes made easy  im wanting ...</td>\n",
       "      <td>1</td>\n",
       "    </tr>\n",
       "    <tr>\n",
       "      <th>3</th>\n",
       "      <td>4 color printing special  request additional ...</td>\n",
       "      <td>1</td>\n",
       "    </tr>\n",
       "    <tr>\n",
       "      <th>4</th>\n",
       "      <td>do not have money   get software cds from her...</td>\n",
       "      <td>1</td>\n",
       "    </tr>\n",
       "    <tr>\n",
       "      <th>...</th>\n",
       "      <td>...</td>\n",
       "      <td>...</td>\n",
       "    </tr>\n",
       "    <tr>\n",
       "      <th>2038</th>\n",
       "      <td>the installation of the equipment you ordered...</td>\n",
       "      <td>0</td>\n",
       "    </tr>\n",
       "    <tr>\n",
       "      <th>2039</th>\n",
       "      <td>all about current and near future gas   power...</td>\n",
       "      <td>0</td>\n",
       "    </tr>\n",
       "    <tr>\n",
       "      <th>2040</th>\n",
       "      <td>maureen   s expenses  it appears that adminis...</td>\n",
       "      <td>0</td>\n",
       "    </tr>\n",
       "    <tr>\n",
       "      <th>2041</th>\n",
       "      <td>interview   numerical methods   finance  dear...</td>\n",
       "      <td>0</td>\n",
       "    </tr>\n",
       "    <tr>\n",
       "      <th>2042</th>\n",
       "      <td>sevil yaman  hi norma    sevil   s primary pr...</td>\n",
       "      <td>0</td>\n",
       "    </tr>\n",
       "  </tbody>\n",
       "</table>\n",
       "<p>2043 rows × 2 columns</p>\n",
       "</div>"
      ],
      "text/plain": [
       "                                                   text  spam\n",
       "0      naturally irresistible your corporate identit...     1\n",
       "1      the stock trading gunslinger  fanny is merril...     1\n",
       "2      unbelievable new homes made easy  im wanting ...     1\n",
       "3      4 color printing special  request additional ...     1\n",
       "4      do not have money   get software cds from her...     1\n",
       "...                                                 ...   ...\n",
       "2038   the installation of the equipment you ordered...     0\n",
       "2039   all about current and near future gas   power...     0\n",
       "2040   maureen   s expenses  it appears that adminis...     0\n",
       "2041   interview   numerical methods   finance  dear...     0\n",
       "2042   sevil yaman  hi norma    sevil   s primary pr...     0\n",
       "\n",
       "[2043 rows x 2 columns]"
      ]
     },
     "execution_count": 33,
     "metadata": {},
     "output_type": "execute_result"
    }
   ],
   "source": [
    "data"
   ]
  },
  {
   "cell_type": "code",
   "execution_count": 34,
   "id": "a15155ec",
   "metadata": {},
   "outputs": [],
   "source": [
    "corpus = data['text'].values"
   ]
  },
  {
   "cell_type": "code",
   "execution_count": 35,
   "id": "d5f1381e",
   "metadata": {},
   "outputs": [],
   "source": [
    "vectorizer = TfidfVectorizer()\n",
    "x = vectorizer.fit_transform(corpus)"
   ]
  },
  {
   "cell_type": "code",
   "execution_count": 36,
   "id": "8652b3ab",
   "metadata": {},
   "outputs": [
    {
     "data": {
      "text/plain": [
       "<2043x24693 sparse matrix of type '<class 'numpy.float64'>'\n",
       "\twith 236745 stored elements in Compressed Sparse Row format>"
      ]
     },
     "execution_count": 36,
     "metadata": {},
     "output_type": "execute_result"
    }
   ],
   "source": [
    "x"
   ]
  },
  {
   "cell_type": "code",
   "execution_count": 37,
   "id": "ee6a8a29",
   "metadata": {},
   "outputs": [
    {
     "data": {
      "text/plain": [
       "0       1\n",
       "1       1\n",
       "2       1\n",
       "3       1\n",
       "4       1\n",
       "       ..\n",
       "2038    0\n",
       "2039    0\n",
       "2040    0\n",
       "2041    0\n",
       "2042    0\n",
       "Name: spam, Length: 2043, dtype: int32"
      ]
     },
     "execution_count": 37,
     "metadata": {},
     "output_type": "execute_result"
    }
   ],
   "source": [
    "y = data['spam']\n",
    "y"
   ]
  },
  {
   "cell_type": "code",
   "execution_count": 38,
   "id": "b54e76c3",
   "metadata": {},
   "outputs": [],
   "source": [
    "      #Training the model"
   ]
  },
  {
   "cell_type": "markdown",
   "id": "d46e7ba9",
   "metadata": {},
   "source": [
    "                                      METHOD\n",
    "Currently, when we have the train test split, we would have to select the model. There is a huge collection of models, but for this particular task we will use logisticregression. Why? In general, when someone asks what Logisticregression? what do you say to them . it is an algorithm used to categorize things into two classes (mostly), i.e. the outcome is measured using a dichotomous variable. But how computed regression classifies a thing into classes like -binomial (2 possible values), multinomial (3 or more possible values) and ordinal (deals with ordered categories). i.e. the result of the show will be divided into two classes.\n",
    "We flagged the messages for a spam detection issue, but we're not sure how many unused incoming messages there are. We will require a show that can tell us the probability that the message is spam or not spam. 0 Acceptance in this case shows — a negative class (no appearance of spam) and 1 shows — a positive class (close to spam), We will use the logistic regression model.\n"
   ]
  },
  {
   "cell_type": "code",
   "execution_count": 39,
   "id": "907a1077",
   "metadata": {},
   "outputs": [],
   "source": [
    "from sklearn.linear_model import LogisticRegression\n",
    "from sklearn.model_selection import train_test_split as tts"
   ]
  },
  {
   "cell_type": "code",
   "execution_count": 40,
   "id": "a9289052",
   "metadata": {},
   "outputs": [],
   "source": [
    "x_train, x_test, y_train, y_test = tts(x, y, test_size = 0.3, random_state = 42)"
   ]
  },
  {
   "cell_type": "code",
   "execution_count": 41,
   "id": "20a21785",
   "metadata": {},
   "outputs": [
    {
     "data": {
      "text/plain": [
       "LogisticRegression()"
      ]
     },
     "execution_count": 41,
     "metadata": {},
     "output_type": "execute_result"
    }
   ],
   "source": [
    "model = LogisticRegression()\n",
    "model.fit(x_train, y_train)"
   ]
  },
  {
   "cell_type": "markdown",
   "id": "d0e36236",
   "metadata": {},
   "source": [
    "                                    Results\n",
    "First we define the model then fit the train data. This phase is called training your model. Once the training phase is complete, we are able to use the testing part and predict what will happen. In order to verify the accuracy of our demonstrations, we are able to use the accuracy score metric. This metric compares the expected arrival to what actually happens. After Running the code, we got 0.9846153846153847 Score.  We will show the predicated label on  Confusion Matrix"
   ]
  },
  {
   "cell_type": "code",
   "execution_count": 42,
   "id": "1258f87e",
   "metadata": {},
   "outputs": [
    {
     "data": {
      "text/plain": [
       "0.9846153846153847"
      ]
     },
     "execution_count": 42,
     "metadata": {},
     "output_type": "execute_result"
    }
   ],
   "source": [
    "model.score(x_train, y_train)"
   ]
  },
  {
   "cell_type": "code",
   "execution_count": 43,
   "id": "bb2c009e",
   "metadata": {},
   "outputs": [],
   "source": [
    "     #Confusion matrix"
   ]
  },
  {
   "cell_type": "code",
   "execution_count": 44,
   "id": "2a50dde9",
   "metadata": {},
   "outputs": [],
   "source": [
    "from sklearn.metrics import ConfusionMatrixDisplay, confusion_matrix"
   ]
  },
  {
   "cell_type": "code",
   "execution_count": 45,
   "id": "31592df5",
   "metadata": {},
   "outputs": [],
   "source": [
    "y_pred = model.predict(x_test)"
   ]
  },
  {
   "cell_type": "markdown",
   "id": "556c599e",
   "metadata": {},
   "source": [
    "                                    PRELIMINARY ANALYSIS\n",
    "Currently, our calculation is ready, so we need to check the execution of the sample. A single missed important message can cause a client to reconsider their respect for spam sorting. So we must be beyond any doubt that our calculation will be almost 100% accurate. However, several analysts believe that considering Score as an evaluation parameter for spam classification is not enough. According to the table below (also known as confusion_matrix), we need to judge our spam classification demonstration based on confusion matrix.\n"
   ]
  },
  {
   "cell_type": "code",
   "execution_count": 46,
   "id": "545637aa",
   "metadata": {},
   "outputs": [
    {
     "data": {
      "image/png": "[encoded data removed]",
      "text/plain": [
       "<Figure size 432x288 with 2 Axes>"
      ]
     },
     "metadata": {
      "needs_background": "light"
     },
     "output_type": "display_data"
    }
   ],
   "source": [
    "cm = confusion_matrix(y_test, y_pred, labels = model.classes_)\n",
    "disp = ConfusionMatrixDisplay(confusion_matrix = cm, display_labels = model.classes_)\n",
    "disp.plot()\n",
    "plt.show()"
   ]
  },
  {
   "cell_type": "markdown",
   "id": "5a4c8475",
   "metadata": {},
   "source": []
  },
  {
   "cell_type": "code",
   "execution_count": 47,
   "id": "eda38caa",
   "metadata": {},
   "outputs": [],
   "source": [
    "import numpy as np\n",
    "import pandas as pd\n",
    "import matplotlib.pyplot as plt\n",
    "from sklearn.feature_extraction.text import CountVectorizer\n",
    "from sklearn.model_selection import GridSearchCV\n",
    "from sklearn import svm"
   ]
  },
  {
   "cell_type": "code",
   "execution_count": 48,
   "id": "24de6323",
   "metadata": {},
   "outputs": [
    {
     "data": {
      "text/html": [
       "<div>\n",
       "<style scoped>\n",
       "    .dataframe tbody tr th:only-of-type {\n",
       "        vertical-align: middle;\n",
       "    }\n",
       "\n",
       "    .dataframe tbody tr th {\n",
       "        vertical-align: top;\n",
       "    }\n",
       "\n",
       "    .dataframe thead th {\n",
       "        text-align: right;\n",
       "    }\n",
       "</style>\n",
       "<table border=\"1\" class=\"dataframe\">\n",
       "  <thead>\n",
       "    <tr style=\"text-align: right;\">\n",
       "      <th></th>\n",
       "      <th>text</th>\n",
       "      <th>spam</th>\n",
       "    </tr>\n",
       "  </thead>\n",
       "  <tbody>\n",
       "    <tr>\n",
       "      <th>0</th>\n",
       "      <td>Subject: naturally irresistible your corporate...</td>\n",
       "      <td>1.0</td>\n",
       "    </tr>\n",
       "    <tr>\n",
       "      <th>1</th>\n",
       "      <td>Subject: the stock trading gunslinger  fanny i...</td>\n",
       "      <td>1.0</td>\n",
       "    </tr>\n",
       "    <tr>\n",
       "      <th>2</th>\n",
       "      <td>Subject: unbelievable new homes made easy  im ...</td>\n",
       "      <td>1.0</td>\n",
       "    </tr>\n",
       "    <tr>\n",
       "      <th>3</th>\n",
       "      <td>Subject: 4 color printing special  request add...</td>\n",
       "      <td>1.0</td>\n",
       "    </tr>\n",
       "    <tr>\n",
       "      <th>4</th>\n",
       "      <td>Subject: do not have money , get software cds ...</td>\n",
       "      <td>1.0</td>\n",
       "    </tr>\n",
       "    <tr>\n",
       "      <th>...</th>\n",
       "      <td>...</td>\n",
       "      <td>...</td>\n",
       "    </tr>\n",
       "    <tr>\n",
       "      <th>5721</th>\n",
       "      <td>NaN</td>\n",
       "      <td>NaN</td>\n",
       "    </tr>\n",
       "    <tr>\n",
       "      <th>5722</th>\n",
       "      <td>NaN</td>\n",
       "      <td>NaN</td>\n",
       "    </tr>\n",
       "    <tr>\n",
       "      <th>5723</th>\n",
       "      <td>NaN</td>\n",
       "      <td>NaN</td>\n",
       "    </tr>\n",
       "    <tr>\n",
       "      <th>5724</th>\n",
       "      <td>NaN</td>\n",
       "      <td>NaN</td>\n",
       "    </tr>\n",
       "    <tr>\n",
       "      <th>5725</th>\n",
       "      <td>NaN</td>\n",
       "      <td>NaN</td>\n",
       "    </tr>\n",
       "  </tbody>\n",
       "</table>\n",
       "<p>5726 rows × 2 columns</p>\n",
       "</div>"
      ],
      "text/plain": [
       "                                                   text  spam\n",
       "0     Subject: naturally irresistible your corporate...   1.0\n",
       "1     Subject: the stock trading gunslinger  fanny i...   1.0\n",
       "2     Subject: unbelievable new homes made easy  im ...   1.0\n",
       "3     Subject: 4 color printing special  request add...   1.0\n",
       "4     Subject: do not have money , get software cds ...   1.0\n",
       "...                                                 ...   ...\n",
       "5721                                                NaN   NaN\n",
       "5722                                                NaN   NaN\n",
       "5723                                                NaN   NaN\n",
       "5724                                                NaN   NaN\n",
       "5725                                                NaN   NaN\n",
       "\n",
       "[5726 rows x 2 columns]"
      ]
     },
     "execution_count": 48,
     "metadata": {},
     "output_type": "execute_result"
    }
   ],
   "source": [
    "data = pd.read_csv('emails_V2.csv')\n",
    "data"
   ]
  },
  {
   "cell_type": "code",
   "execution_count": 49,
   "id": "8b08f108",
   "metadata": {},
   "outputs": [
    {
     "name": "stdout",
     "output_type": "stream",
     "text": [
      "<class 'pandas.core.frame.DataFrame'>\n",
      "RangeIndex: 5726 entries, 0 to 5725\n",
      "Data columns (total 2 columns):\n",
      " #   Column  Non-Null Count  Dtype  \n",
      "---  ------  --------------  -----  \n",
      " 0   text    2043 non-null   object \n",
      " 1   spam    2043 non-null   float64\n",
      "dtypes: float64(1), object(1)\n",
      "memory usage: 89.6+ KB\n"
     ]
    }
   ],
   "source": [
    "data.info()"
   ]
  },
  {
   "cell_type": "code",
   "execution_count": 50,
   "id": "22e78893",
   "metadata": {},
   "outputs": [],
   "source": [
    "from sklearn.model_selection import train_test_split\n",
    "x_train, x_test, y_train, y_test = tts(x, y, test_size = 0.3, random_state = 42)"
   ]
  },
  {
   "cell_type": "code",
   "execution_count": null,
   "id": "a2a868fe",
   "metadata": {},
   "outputs": [],
   "source": [
    "                  #Applying SVM algorithms"
   ]
  },
  {
   "attachments": {},
   "cell_type": "markdown",
   "id": "c93eecea",
   "metadata": {},
   "source": [
    "                                                Methods\n",
    "SVM can be a supervised machine learning Algorithms that can be used for both classification and Regression. In any case, it is mostly used in classification matters. As part of the SVM computation, we plot each data item as a point in an n-dimensional space where n can be the number of highlights you have, with the valuation of each one being the valuation of a particular arrangement. At this point, we perform the classification by finding the hyper-plane that separates the two classes exceptionally well.\n"
   ]
  },
  {
   "cell_type": "code",
   "execution_count": 55,
   "id": "4d03d5a5",
   "metadata": {},
   "outputs": [
    {
     "data": {
      "text/plain": [
       "SVC(random_state=0)"
      ]
     },
     "execution_count": 55,
     "metadata": {},
     "output_type": "execute_result"
    }
   ],
   "source": [
    "from sklearn.svm import SVC\n",
    "classifier = SVC(kernel = 'rbf', random_state = 0)\n",
    "classifier.fit(x_train, y_train)"
   ]
  },
  {
   "cell_type": "markdown",
   "id": "6cb7fbc9",
   "metadata": {},
   "source": [
    "                                                  Results\n",
    "Secondly we define the model then fit the train data through SVM. This phase is called training your model. Once the training phase is complete, we are able to use the testing part and predict what will happen. After Running the code, we got 0.9853181076672104 Score\n"
   ]
  },
  {
   "cell_type": "code",
   "execution_count": 56,
   "id": "5ecebe26",
   "metadata": {},
   "outputs": [
    {
     "name": "stdout",
     "output_type": "stream",
     "text": [
      "0.9853181076672104\n"
     ]
    }
   ],
   "source": [
    "print(classifier.score(x_test,y_test))"
   ]
  },
  {
   "cell_type": "code",
   "execution_count": 57,
   "id": "356c2655",
   "metadata": {},
   "outputs": [],
   "source": [
    "# To read the csv files in arrays and dataframes.\n",
    "import numpy as np \n",
    "import pandas as pd "
   ]
  },
  {
   "cell_type": "code",
   "execution_count": 62,
   "id": "e2e837b6",
   "metadata": {},
   "outputs": [
    {
     "data": {
      "text/html": [
       "<div>\n",
       "<style scoped>\n",
       "    .dataframe tbody tr th:only-of-type {\n",
       "        vertical-align: middle;\n",
       "    }\n",
       "\n",
       "    .dataframe tbody tr th {\n",
       "        vertical-align: top;\n",
       "    }\n",
       "\n",
       "    .dataframe thead th {\n",
       "        text-align: right;\n",
       "    }\n",
       "</style>\n",
       "<table border=\"1\" class=\"dataframe\">\n",
       "  <thead>\n",
       "    <tr style=\"text-align: right;\">\n",
       "      <th></th>\n",
       "      <th>text</th>\n",
       "      <th>spam</th>\n",
       "    </tr>\n",
       "  </thead>\n",
       "  <tbody>\n",
       "    <tr>\n",
       "      <th>0</th>\n",
       "      <td>Subject: naturally irresistible your corporate...</td>\n",
       "      <td>1.0</td>\n",
       "    </tr>\n",
       "    <tr>\n",
       "      <th>1</th>\n",
       "      <td>Subject: the stock trading gunslinger  fanny i...</td>\n",
       "      <td>1.0</td>\n",
       "    </tr>\n",
       "    <tr>\n",
       "      <th>2</th>\n",
       "      <td>Subject: unbelievable new homes made easy  im ...</td>\n",
       "      <td>1.0</td>\n",
       "    </tr>\n",
       "    <tr>\n",
       "      <th>3</th>\n",
       "      <td>Subject: 4 color printing special  request add...</td>\n",
       "      <td>1.0</td>\n",
       "    </tr>\n",
       "    <tr>\n",
       "      <th>4</th>\n",
       "      <td>Subject: do not have money , get software cds ...</td>\n",
       "      <td>1.0</td>\n",
       "    </tr>\n",
       "  </tbody>\n",
       "</table>\n",
       "</div>"
      ],
      "text/plain": [
       "                                                text  spam\n",
       "0  Subject: naturally irresistible your corporate...   1.0\n",
       "1  Subject: the stock trading gunslinger  fanny i...   1.0\n",
       "2  Subject: unbelievable new homes made easy  im ...   1.0\n",
       "3  Subject: 4 color printing special  request add...   1.0\n",
       "4  Subject: do not have money , get software cds ...   1.0"
      ]
     },
     "execution_count": 62,
     "metadata": {},
     "output_type": "execute_result"
    }
   ],
   "source": [
    "\n",
    "data = pd.read_csv(\"emails_V2.csv\", encoding = \"latin-1\")\n",
    "# # encoding='latin-1' is used to download all special characters and everything in python. If there is no encoding on the data, it gives an error. Let's check the first five values.\n",
    "data.head()"
   ]
  },
  {
   "cell_type": "code",
   "execution_count": 63,
   "id": "3ade6e43",
   "metadata": {},
   "outputs": [
    {
     "data": {
      "text/plain": [
       "text    3683\n",
       "spam    3683\n",
       "dtype: int64"
      ]
     },
     "execution_count": 63,
     "metadata": {},
     "output_type": "execute_result"
    }
   ],
   "source": [
    "data.isnull().sum()"
   ]
  },
  {
   "cell_type": "code",
   "execution_count": 66,
   "id": "10a4cd35",
   "metadata": {},
   "outputs": [
    {
     "data": {
      "text/html": [
       "<div>\n",
       "<style scoped>\n",
       "    .dataframe tbody tr th:only-of-type {\n",
       "        vertical-align: middle;\n",
       "    }\n",
       "\n",
       "    .dataframe tbody tr th {\n",
       "        vertical-align: top;\n",
       "    }\n",
       "\n",
       "    .dataframe thead th {\n",
       "        text-align: right;\n",
       "    }\n",
       "</style>\n",
       "<table border=\"1\" class=\"dataframe\">\n",
       "  <thead>\n",
       "    <tr style=\"text-align: right;\">\n",
       "      <th></th>\n",
       "      <th>text</th>\n",
       "      <th>spam</th>\n",
       "    </tr>\n",
       "  </thead>\n",
       "  <tbody>\n",
       "    <tr>\n",
       "      <th>0</th>\n",
       "      <td>Subject: naturally irresistible your corporate...</td>\n",
       "      <td>1.0</td>\n",
       "    </tr>\n",
       "    <tr>\n",
       "      <th>1</th>\n",
       "      <td>Subject: the stock trading gunslinger  fanny i...</td>\n",
       "      <td>1.0</td>\n",
       "    </tr>\n",
       "    <tr>\n",
       "      <th>2</th>\n",
       "      <td>Subject: unbelievable new homes made easy  im ...</td>\n",
       "      <td>1.0</td>\n",
       "    </tr>\n",
       "    <tr>\n",
       "      <th>3</th>\n",
       "      <td>Subject: 4 color printing special  request add...</td>\n",
       "      <td>1.0</td>\n",
       "    </tr>\n",
       "    <tr>\n",
       "      <th>4</th>\n",
       "      <td>Subject: do not have money , get software cds ...</td>\n",
       "      <td>1.0</td>\n",
       "    </tr>\n",
       "  </tbody>\n",
       "</table>\n",
       "</div>"
      ],
      "text/plain": [
       "                                                text  spam\n",
       "0  Subject: naturally irresistible your corporate...   1.0\n",
       "1  Subject: the stock trading gunslinger  fanny i...   1.0\n",
       "2  Subject: unbelievable new homes made easy  im ...   1.0\n",
       "3  Subject: 4 color printing special  request add...   1.0\n",
       "4  Subject: do not have money , get software cds ...   1.0"
      ]
     },
     "execution_count": 66,
     "metadata": {},
     "output_type": "execute_result"
    }
   ],
   "source": [
    "\n",
    "data.rename(columns= { 'v1' : 'class' , 'v2' : 'message'}, inplace= True)\n",
    "data.head()"
   ]
  },
  {
   "cell_type": "code",
   "execution_count": null,
   "id": "d3f3a9c7",
   "metadata": {},
   "outputs": [],
   "source": [
    "                              #Navie Bayes Algorthms"
   ]
  },
  {
   "attachments": {},
   "cell_type": "markdown",
   "id": "207ae0a9",
   "metadata": {},
   "source": [
    "\n",
    "                                                  Methods\n",
    "Using Bayes' Run the show, we need to find out how likely an email is spam because it contains certain words. We do this by finding the probability that each word in an email is spam, and then duplicating those probabilities together to force a bulk spam metric to be used in the classification.\n"
   ]
  },
  {
   "cell_type": "code",
   "execution_count": 68,
   "id": "f29bf52e",
   "metadata": {},
   "outputs": [
    {
     "data": {
      "image/png": "[encoded data removed]",
      "text/plain": [
       "<Figure size 432x288 with 1 Axes>"
      ]
     },
     "metadata": {
      "needs_background": "light"
     },
     "output_type": "display_data"
    }
   ],
   "source": [
    "import matplotlib.pyplot as plt\n",
    "count =pd.value_counts(data[\"spam\"], sort= True)\n",
    "count.plot(kind= 'bar', color= [\"blue\", \"orange\"])\n",
    "plt.title('Bar chart')\n",
    "plt.legend(loc='best')\n",
    "plt.show()"
   ]
  },
  {
   "cell_type": "markdown",
   "id": "816a2316",
   "metadata": {},
   "source": [
    "                                                    Results\n",
    "finally we define the model then fit the train data through Bayes'. This phase is called training your model. Once the training phase is complete, we are able to use the testing part and predict what will happen. After Running the code, we got\n",
    "\n"
   ]
  },
  {
   "cell_type": "code",
   "execution_count": 70,
   "id": "6657102d",
   "metadata": {},
   "outputs": [
    {
     "data": {
      "image/png": "[encoded data removed]",
      "text/plain": [
       "<Figure size 432x288 with 1 Axes>"
      ]
     },
     "metadata": {},
     "output_type": "display_data"
    }
   ],
   "source": [
    "count.plot(kind = 'pie',autopct='%1.2f%%') # 1.2 is the decimal points for 2 places\n",
    "plt.title('Pie chart')\n",
    "plt.show()"
   ]
  },
  {
   "cell_type": "code",
   "execution_count": 71,
   "id": "1436050a",
   "metadata": {},
   "outputs": [
    {
     "data": {
      "text/html": [
       "<div>\n",
       "<style scoped>\n",
       "    .dataframe tbody tr th:only-of-type {\n",
       "        vertical-align: middle;\n",
       "    }\n",
       "\n",
       "    .dataframe tbody tr th {\n",
       "        vertical-align: top;\n",
       "    }\n",
       "\n",
       "    .dataframe thead tr th {\n",
       "        text-align: left;\n",
       "    }\n",
       "\n",
       "    .dataframe thead tr:last-of-type th {\n",
       "        text-align: right;\n",
       "    }\n",
       "</style>\n",
       "<table border=\"1\" class=\"dataframe\">\n",
       "  <thead>\n",
       "    <tr>\n",
       "      <th></th>\n",
       "      <th colspan=\"4\" halign=\"left\">text</th>\n",
       "    </tr>\n",
       "    <tr>\n",
       "      <th></th>\n",
       "      <th>count</th>\n",
       "      <th>unique</th>\n",
       "      <th>top</th>\n",
       "      <th>freq</th>\n",
       "    </tr>\n",
       "    <tr>\n",
       "      <th>spam</th>\n",
       "      <th></th>\n",
       "      <th></th>\n",
       "      <th></th>\n",
       "      <th></th>\n",
       "    </tr>\n",
       "  </thead>\n",
       "  <tbody>\n",
       "    <tr>\n",
       "      <th>0.0</th>\n",
       "      <td>675</td>\n",
       "      <td>675</td>\n",
       "      <td>Subject: hello guys ,  i ' m \" bugging you \" f...</td>\n",
       "      <td>1</td>\n",
       "    </tr>\n",
       "    <tr>\n",
       "      <th>1.0</th>\n",
       "      <td>1368</td>\n",
       "      <td>1368</td>\n",
       "      <td>Subject: naturally irresistible your corporate...</td>\n",
       "      <td>1</td>\n",
       "    </tr>\n",
       "  </tbody>\n",
       "</table>\n",
       "</div>"
      ],
      "text/plain": [
       "      text                                                               \n",
       "     count unique                                                top freq\n",
       "spam                                                                     \n",
       "0.0    675    675  Subject: hello guys ,  i ' m \" bugging you \" f...    1\n",
       "1.0   1368   1368  Subject: naturally irresistible your corporate...    1"
      ]
     },
     "execution_count": 71,
     "metadata": {},
     "output_type": "execute_result"
    }
   ],
   "source": [
    "data.groupby('spam').describe()"
   ]
  },
  {
   "cell_type": "markdown",
   "id": "1e1bbf71",
   "metadata": {},
   "source": [
    "                              CONCLUSIONS\n",
    "As we have seen, we used the information already collected to prepare the show and assumed a category for modern upcoming emails. This demonstrates the importance of labeling information in the right way. One flop can make your machine dumb like in your gmail or any other email account once you get emails and you think it might be spam but you choose to ignore it, it might be another time once you see that email, you should report it as spam. This preparation can offer help to a bunch of other individuals who receive the same kind of e-mail but don't know what spam is. Now and then an off-base spam tag can so move a real email to the organizer's spam. We’ve as it were scratched the surface of what we are able achieve with machine learning for our e-mail spam locator. We are able moreover include adjustments like computerizing the CSV record. With the number of spam emails sent every day and the amount of money individuals lose to these spam tricks everyday, spam filtering is becoming a basic requirement for all email companies. This article explored the overall approach to spam scanning using advanced machine learning advances. Additionally, we concluded one conceivable way of performing our spam classifier using one of the most famous computations, Logisticregression. In order to test the accuracy of our appearance, an accuracy score metric is used. This metric compares expected arrival to actual arrival. After running the code, we got 98% accuracy. In the expansion, we drew a warm diagram to stimulate thought about how accurate our expected values are compared to the actual values.\n"
   ]
  }
 ],
 "metadata": {
  "kernelspec": {
   "display_name": "Python 3 (ipykernel)",
   "language": "python",
   "name": "python3"
  },
  "language_info": {
   "codemirror_mode": {
    "name": "ipython",
    "version": 3
   },
   "file_extension": ".py",
   "mimetype": "text/x-python",
   "name": "python",
   "nbconvert_exporter": "python",
   "pygments_lexer": "ipython3",
   "version": "3.9.7"
  }
 },
 "nbformat": 4,
 "nbformat_minor": 5
}
